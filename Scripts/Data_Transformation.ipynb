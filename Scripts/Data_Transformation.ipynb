{
 "cells": [
  {
   "cell_type": "markdown",
   "metadata": {},
   "source": [
    "Methods for data cleaning"
   ]
  },
  {
   "cell_type": "code",
   "execution_count": null,
   "metadata": {},
   "outputs": [],
   "source": [
    "import BeautifulSoup\n",
    "\n",
    "def remove_html__and_script(text):\n",
    "    soup = BeautifulSoup(text, \"html.parser\")\n",
    "\n",
    "    # Remove script and style tags completely\n",
    "    for tag in soup([\"script\", \"style\"]):\n",
    "        tag.decompose()\n",
    "\n",
    "    return soup.get_text(strip=True)"
   ]
  },
  {
   "cell_type": "code",
   "execution_count": 39,
   "metadata": {},
   "outputs": [],
   "source": [
    "import unicodedata\n",
    "\n",
    "def normalize_unicode(text):\n",
    "    return unicodedata.normalize('NFKD', text)"
   ]
  },
  {
   "cell_type": "markdown",
   "metadata": {},
   "source": [
    "Testing data cleaning methods"
   ]
  },
  {
   "cell_type": "code",
   "execution_count": 4,
   "metadata": {},
   "outputs": [],
   "source": [
    "# text to be cleaned\n",
    "text1 = \"ebm\\u2011papst Invests \\u20ac30 Million in New Site in Romania\"\n",
    "text2 = \"Let\\u2019s decarbonize district heating<br><br> together at this year\\u2019s Euroheat &amp; Power Congress in Prague, Czech Republic, where\"\n",
    "text3 = 'Mark your calendars for May 27, 2025, at 11:00 CET, as we\\\\u2019re hosting an online session; Retrofitting Commercial Buildings: How E'\n",
    "#clean_text2 method works with text3\n",
    "\n"
   ]
  },
  {
   "cell_type": "code",
   "execution_count": 37,
   "metadata": {},
   "outputs": [
    {
     "name": "stdout",
     "output_type": "stream",
     "text": [
      "ebm‑papst Invests €30 Million in New Site in Romania\n"
     ]
    }
   ],
   "source": [
    "print(text1)"
   ]
  },
  {
   "cell_type": "code",
   "execution_count": 42,
   "metadata": {},
   "outputs": [
    {
     "name": "stdout",
     "output_type": "stream",
     "text": [
      "\n",
      "\n",
      "output:  Mark your calendars for May 27, 2025, at 11:00 CET, as we\\u2019re hosting an online session; Retrofitting Commercial Buildings: How E\n"
     ]
    }
   ],
   "source": [
    "output = normalize_unicode(text3)\n",
    "\n",
    "\n",
    "print(\"\\n\")\n",
    "print(\"output: \", output)"
   ]
  },
  {
   "cell_type": "markdown",
   "metadata": {},
   "source": [
    "Testing data cleaning on csv file records"
   ]
  },
  {
   "cell_type": "code",
   "execution_count": null,
   "metadata": {},
   "outputs": [],
   "source": [
    "import pandas as pd\n",
    "\n",
    "# Read the CSV file into a DataFrame\n",
    "df = pd.read_csv(\"../articles.csv\")\n",
    "\n",
    "# Display the first few rows of the DataFrame\n",
    "df.head()"
   ]
  },
  {
   "cell_type": "code",
   "execution_count": null,
   "metadata": {},
   "outputs": [],
   "source": [
    "# Apply the clean_text1 method to the \"title\" and \"summary\" columns\n",
    "\n",
    "test = pd.DataFrame()\n",
    "\n",
    "test['cleaned_title'] = df['title'].apply(lambda x: clean_text1(str(x)) if pd.notnull(x) else \"\")\n",
    "test['cleaned_summary'] = df['summary'].apply(lambda x: clean_text1(str(x)) if pd.notnull(x) else \"\")\n",
    "\n",
    "# Display the first few rows of the updated DataFrame\n",
    "\n",
    "# Post test: Filter records where '\\u2019' is present in either the title or summary column\n",
    "filtered_records3 = test[test['cleaned_title'].str.contains(r\"\\\\u2019\", na=False) | test['cleaned_summary'].str.contains(r\"\\\\u2019\", na=False)]\n",
    "\n",
    "# Post test: Display the filtered records\n",
    "filtered_records3['cleaned_title'].iloc[0]"
   ]
  },
  {
   "cell_type": "code",
   "execution_count": null,
   "metadata": {},
   "outputs": [],
   "source": []
  },
  {
   "cell_type": "code",
   "execution_count": null,
   "metadata": {},
   "outputs": [],
   "source": [
    "df['title'] = df['title'].apply(lambda x: clean_text_manually(str(x)) if pd.notnull(x) else \"\")\n",
    "df['summary'] = df['summary'].apply(lambda x: clean_text_manually(str(x)) if pd.notnull(x) else \"\")\n",
    "\n",
    "# Post test: Filter records where '\\u2019' is present in either the title or summary column\n",
    "filtered_records2 = df[df['title'].str.contains(r\"\\\\u2019\", na=False) | df['summary'].str.contains(r\"\\\\u2019\", na=False)]\n",
    "\n",
    "# Post test: Display the filtered records\n",
    "filtered_records2"
   ]
  },
  {
   "cell_type": "code",
   "execution_count": null,
   "metadata": {},
   "outputs": [],
   "source": [
    "# Post test: Filter records where '\\u2019' is present in either the title or summary column\n",
    "filtered_records1 = df[df['title'].str.contains(r\"\\\\u2019\", na=False) | df['summary'].str.contains(r\"\\\\u2019\", na=False)]\n",
    "\n",
    "# Post test: Display the filtered records\n",
    "filtered_records1"
   ]
  },
  {
   "cell_type": "code",
   "execution_count": null,
   "metadata": {},
   "outputs": [],
   "source": [
    "# Filter records where '\\u2019' is present in either the title or summary column\n",
    "filtered_records = df[df['title'].str.contains(r\"\\\\u2019\", na=False) | df['summary'].str.contains(r\"\\\\u2019\", na=False)]\n",
    "\n",
    "# Display the filtered records\n",
    "filtered_records"
   ]
  }
 ],
 "metadata": {
  "kernelspec": {
   "display_name": "venv",
   "language": "python",
   "name": "python3"
  },
  "language_info": {
   "codemirror_mode": {
    "name": "ipython",
    "version": 3
   },
   "file_extension": ".py",
   "mimetype": "text/x-python",
   "name": "python",
   "nbconvert_exporter": "python",
   "pygments_lexer": "ipython3",
   "version": "3.12.10"
  }
 },
 "nbformat": 4,
 "nbformat_minor": 2
}
