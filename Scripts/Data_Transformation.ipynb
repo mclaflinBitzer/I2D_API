{
 "cells": [
  {
   "cell_type": "code",
   "execution_count": null,
   "metadata": {},
   "outputs": [],
   "source": []
  },
  {
   "cell_type": "code",
   "execution_count": null,
   "metadata": {},
   "outputs": [],
   "source": [
    "def clean_text2(text):\n",
    "    text = text.encode('utf-8').decode('unicode_escape')\n",
    "    print(\"text after unicode_escape: \", test)\n",
    "    text = text.replace(\n",
    "        \"\\u201c\", \"“\").replace(  # Left double quotation mark\n",
    "        \"\\u201d\", \"”\").replace(  # Right double quotation mark\n",
    "        \"\\u2019\", \"’\").replace(  # Right single quotation mark\n",
    "        \"\\u2014\", \"—\").replace(  # Em dash\n",
    "        \"\\u2122\", \"™\").replace(  # Trademark symbol\n",
    "        \"\\u00a9\", \"©\").replace(  # Copyright symbol\n",
    "        \"\\u00ae\", \"®\").replace(  # Registered trademark symbol\n",
    "        \"\\u00f1\", \"ñ\").replace(  # Lowercase n with tilde\n",
    "        \"\\u00d1\", \"Ñ\").replace(  # Uppercase N with tilde\n",
    "        \"\\u00e9\", \"é\").replace(  # Lowercase e with acute\n",
    "        \"\\u00e8\", \"è\").replace(  # Lowercase e with grave\n",
    "        \"\\u00e2\", \"â\").replace(  # Lowercase a with circumflex\n",
    "        \"\\u00f3\", \"ó\").replace(  # Lowercase o with acute\n",
    "        \"\\u00f6\", \"ö\").replace(  # Lowercase o with diaeresis\n",
    "        \"\\u00f4\", \"ô\").replace(  # Lowercase o with circumflex\n",
    "        \"\\u00fc\", \"ü\").replace(  # Lowercase u with diaeresis\n",
    "        \"\\u00f7\", \"÷\").replace(  # Division sign\n",
    "        \"\\u00b0\", \"°\").replace(  # Degree symbol\n",
    "        \"\\u00a5\", \"¥\").replace(  # Yen symbol\n",
    "        \"\\u00b7\", \"·\").replace(  # Middle dot\n",
    "        \"\\u00e0\", \"à\").replace(  # Lowercase a with grave\n",
    "        \"\\u00df\", \"ß\").replace(  # Eszett (sharp s)\n",
    "        \"\\u2212\", \"−\").replace(  # Minus sign\n",
    "        \"\\u2b06\", \"⬆️\").replace(  # Upwards button\n",
    "        \"\\u2192\", \"→\").replace(  # Rightwards arrow\n",
    "        \"\\u2190\", \"←\").replace(  # Leftwards arrow\n",
    "        \"\\u2022\", \"•\").replace(  # Bullet\n",
    "        \"\\u2026\", \"…\").replace(  # Ellipsis\n",
    "        \"\\u2194\", \"↔️\").replace(  # Left-right arrow\n",
    "        \"\\u2500\", \"━\").replace(  # Box drawings light horizontal\n",
    "        \"\\ud83c\\udf1f\", \"🌟\").replace(  # Glowing star\n",
    "        \"\\ud83d\\ude80\", \"🚀\")  # Rocket emoji\n",
    "\n",
    "    print(text)\n"
   ]
  },
  {
   "cell_type": "code",
   "execution_count": null,
   "metadata": {},
   "outputs": [],
   "source": [
    "# text to be cleaned\n",
    "text1 = \"ebm\\u2011papst Invests \\u20ac30 Million in New Site in Romania\"\n",
    "text2 = \"Let\\u2019s decarbonize district heating<br><br> together at this year\\u2019s Euroheat &amp; Power Congress in Prague, Czech Republic, where\"\n",
    "text3 = 'Mark your calendars for May 27, 2025, at 11:00 CET, as we\\\\u2019re hosting an online session; Retrofitting Commercial Buildings: How E'\n",
    "\n"
   ]
  },
  {
   "cell_type": "code",
   "execution_count": null,
   "metadata": {},
   "outputs": [],
   "source": [
    "clean_text2('Mark your calendars for May 27, 2025, at 11:00 CET, as we\\\\u2019re hosting an online session; Retrofitting Commercial Buildings: How E')"
   ]
  },
  {
   "cell_type": "code",
   "execution_count": null,
   "metadata": {},
   "outputs": [],
   "source": [
    "# method 1 testing\n",
    "clean_text2(text1)\n",
    "print(\"\\n\")\n",
    "clean_text2(text2)"
   ]
  },
  {
   "cell_type": "code",
   "execution_count": null,
   "metadata": {},
   "outputs": [],
   "source": [
    "# method 2 testing\n",
    "clean_text1(text1)\n",
    "print(\"\\n\")\n",
    "clean_text1(text2)"
   ]
  },
  {
   "cell_type": "code",
   "execution_count": null,
   "metadata": {},
   "outputs": [],
   "source": [
    "import re\n",
    "import html\n",
    "from bs4 import BeautifulSoup\n",
    "\n",
    "def clean_text1(text):\n",
    "    if not text:\n",
    "        return \"\"\n",
    "    \n",
    "    # 1. Unescape HTML entities (like &lt;, &gt;, etc.)\n",
    "    text = html.unescape(text)\n",
    "    \n",
    "    # 2. Strip HTML tags using BeautifulSoup\n",
    "    text = BeautifulSoup(text, \"html.parser\").get_text()\n",
    "\n",
    "    # 3. Manually replace common Unicode characters for quotes and punctuation\n",
    "    text = text.replace(\n",
    "        \"\\u201c\", \"“\").replace(  # Left double quotation mark\n",
    "        \"\\u201d\", \"”\").replace(  # Right double quotation mark\n",
    "        \"\\u2019\", \"’\").replace(  # Right single quotation mark\n",
    "        \"\\u2014\", \"—\").replace(  # Em dash\n",
    "        \"\\u2122\", \"™\").replace(  # Trademark symbol\n",
    "        \"\\u00a9\", \"©\").replace(  # Copyright symbol\n",
    "        \"\\u00ae\", \"®\").replace(  # Registered trademark symbol\n",
    "        \"\\u00f1\", \"ñ\").replace(  # Lowercase n with tilde\n",
    "        \"\\u00d1\", \"Ñ\").replace(  # Uppercase N with tilde\n",
    "        \"\\u00e9\", \"é\").replace(  # Lowercase e with acute\n",
    "        \"\\u00e8\", \"è\").replace(  # Lowercase e with grave\n",
    "        \"\\u00e2\", \"â\").replace(  # Lowercase a with circumflex\n",
    "        \"\\u00f3\", \"ó\").replace(  # Lowercase o with acute\n",
    "        \"\\u00f6\", \"ö\").replace(  # Lowercase o with diaeresis\n",
    "        \"\\u00f4\", \"ô\").replace(  # Lowercase o with circumflex\n",
    "        \"\\u00fc\", \"ü\").replace(  # Lowercase u with diaeresis\n",
    "        \"\\u00f7\", \"÷\").replace(  # Division sign\n",
    "        \"\\u00b0\", \"°\").replace(  # Degree symbol\n",
    "        \"\\u00a5\", \"¥\").replace(  # Yen symbol\n",
    "        \"\\u00b7\", \"·\").replace(  # Middle dot\n",
    "        \"\\u00e0\", \"à\").replace(  # Lowercase a with grave\n",
    "        \"\\u00df\", \"ß\").replace(  # Eszett (sharp s)\n",
    "        \"\\u2212\", \"−\").replace(  # Minus sign\n",
    "        \"\\u2b06\", \"⬆️\").replace(  # Upwards button\n",
    "        \"\\u2192\", \"→\").replace(  # Rightwards arrow\n",
    "        \"\\u2190\", \"←\").replace(  # Leftwards arrow\n",
    "        \"\\u2022\", \"•\").replace(  # Bullet\n",
    "        \"\\u2026\", \"…\").replace(  # Ellipsis\n",
    "        \"\\u2194\", \"↔️\").replace(  # Left-right arrow\n",
    "        \"\\u2500\", \"━\").replace(  # Box drawings light horizontal\n",
    "        \"\\ud83c\\udf1f\", \"🌟\").replace(  # Glowing star\n",
    "        \"\\ud83d\\ude80\", \"🚀\")  # Rocket emoji\n",
    "\n",
    "    # 4. Remove any invalid surrogate characters (if any)\n",
    "    text = re.sub(r'[\\ud800-\\udfff]', '', text)\n",
    "\n",
    "    # 5. Remove extra spaces, tabs, and newlines\n",
    "    text = re.sub(r'\\s+', ' ', text).strip()\n",
    "\n",
    "    return text\n"
   ]
  },
  {
   "cell_type": "code",
   "execution_count": null,
   "metadata": {},
   "outputs": [],
   "source": [
    "import pandas as pd\n",
    "\n",
    "# Read the CSV file into a DataFrame\n",
    "df = pd.read_csv(\"articles.csv\")\n",
    "\n",
    "# Display the first few rows of the DataFrame\n",
    "df.head()"
   ]
  },
  {
   "cell_type": "code",
   "execution_count": null,
   "metadata": {},
   "outputs": [],
   "source": [
    "# Apply the clean_text1 method to the \"title\" and \"summary\" columns\n",
    "\n",
    "test = pd.DataFrame()\n",
    "\n",
    "test['cleaned_title'] = df['title'].apply(lambda x: clean_text1(str(x)) if pd.notnull(x) else \"\")\n",
    "test['cleaned_summary'] = df['summary'].apply(lambda x: clean_text1(str(x)) if pd.notnull(x) else \"\")\n",
    "\n",
    "# Display the first few rows of the updated DataFrame\n",
    "\n",
    "# Post test: Filter records where '\\u2019' is present in either the title or summary column\n",
    "filtered_records3 = test[test['cleaned_title'].str.contains(r\"\\\\u2019\", na=False) | test['cleaned_summary'].str.contains(r\"\\\\u2019\", na=False)]\n",
    "\n",
    "# Post test: Display the filtered records\n",
    "filtered_records3['cleaned_title'].iloc[0]"
   ]
  },
  {
   "cell_type": "code",
   "execution_count": null,
   "metadata": {},
   "outputs": [],
   "source": [
    "import re\n",
    "\n",
    "def clean_text_manually(text):\n",
    "    if not isinstance(text, str):\n",
    "        return \"\"\n",
    "\n",
    "    text = text.replace(\"&amp;\", \"&\").replace(\"&lt;\", \"<\").replace(\"&gt;\", \">\") \\\n",
    "               .replace(\"&quot;\", '\"').replace(\"&apos;\", \"'\").replace(\"&nbsp;\", \" \") \\\n",
    "               .replace(\"&copy;\", \"©\").replace(\"&reg;\", \"®\").replace(\"&eacute;\", \"é\") \\\n",
    "               .replace(\"&mdash;\", \"—\").replace(\"&ndash;\", \"–\").replace(\"&hellip;\", \"…\") \\\n",
    "               .replace(\"&lsquo;\", \"‘\").replace(\"&rsquo;\", \"’\").replace(\"&ldquo;\", \"“\") \\\n",
    "               .replace(\"&rdquo;\", \"”\") \\\n",
    "               .replace(\"\\u201c\", \"“\").replace(\"\\u201d\", \"”\").replace(\"\\u2019\", \"’\") \\\n",
    "               .replace(\"\\u2014\", \"—\").replace(\"\\u2122\", \"™\").replace(\"\\u00a9\", \"©\") \\\n",
    "               .replace(\"\\u00ae\", \"®\").replace(\"\\u00f1\", \"ñ\").replace(\"\\u00d1\", \"Ñ\") \\\n",
    "               .replace(\"\\u00e9\", \"é\").replace(\"\\u00e8\", \"è\").replace(\"\\u00e2\", \"â\") \\\n",
    "               .replace(\"\\u00f3\", \"ó\").replace(\"\\u00f6\", \"ö\").replace(\"\\u00f4\", \"ô\") \\\n",
    "               .replace(\"\\u00fc\", \"ü\").replace(\"\\u00f7\", \"÷\").replace(\"\\u00b0\", \"°\") \\\n",
    "               .replace(\"\\u00a5\", \"¥\").replace(\"\\u00b7\", \"·\").replace(\"\\u00e0\", \"à\") \\\n",
    "               .replace(\"\\u00df\", \"ß\").replace(\"\\u2212\", \"−\").replace(\"\\u2b06\", \"⬆️\") \\\n",
    "               .replace(\"\\u2192\", \"→\").replace(\"\\u2190\", \"←\").replace(\"\\u2022\", \"•\") \\\n",
    "               .replace(\"\\u2026\", \"…\").replace(\"\\u2194\", \"↔️\").replace(\"\\u2500\", \"━\") \\\n",
    "               .replace(\"\\ud83c\\udf1f\", \"🌟\").replace(\"\\ud83d\\ude80\", \"🚀\")\n",
    "\n",
    "    # Remove HTML tags\n",
    "    text = re.sub(r\"<[^>]+>\", \"\", text)\n",
    "\n",
    "    return text.strip()\n"
   ]
  },
  {
   "cell_type": "code",
   "execution_count": null,
   "metadata": {},
   "outputs": [],
   "source": [
    "df['title'] = df['title'].apply(lambda x: clean_text_manually(str(x)) if pd.notnull(x) else \"\")\n",
    "df['summary'] = df['summary'].apply(lambda x: clean_text_manually(str(x)) if pd.notnull(x) else \"\")\n",
    "\n",
    "# Post test: Filter records where '\\u2019' is present in either the title or summary column\n",
    "filtered_records2 = df[df['title'].str.contains(r\"\\\\u2019\", na=False) | df['summary'].str.contains(r\"\\\\u2019\", na=False)]\n",
    "\n",
    "# Post test: Display the filtered records\n",
    "filtered_records2"
   ]
  },
  {
   "cell_type": "code",
   "execution_count": null,
   "metadata": {},
   "outputs": [],
   "source": [
    "# Post test: Filter records where '\\u2019' is present in either the title or summary column\n",
    "filtered_records1 = df[df['title'].str.contains(r\"\\\\u2019\", na=False) | df['summary'].str.contains(r\"\\\\u2019\", na=False)]\n",
    "\n",
    "# Post test: Display the filtered records\n",
    "filtered_records1"
   ]
  },
  {
   "cell_type": "code",
   "execution_count": null,
   "metadata": {},
   "outputs": [],
   "source": [
    "# Filter records where '\\u2019' is present in either the title or summary column\n",
    "filtered_records = df[df['title'].str.contains(r\"\\\\u2019\", na=False) | df['summary'].str.contains(r\"\\\\u2019\", na=False)]\n",
    "\n",
    "# Display the filtered records\n",
    "filtered_records"
   ]
  }
 ],
 "metadata": {
  "kernelspec": {
   "display_name": "venv",
   "language": "python",
   "name": "python3"
  },
  "language_info": {
   "name": "python",
   "version": "3.12.10"
  }
 },
 "nbformat": 4,
 "nbformat_minor": 2
}
