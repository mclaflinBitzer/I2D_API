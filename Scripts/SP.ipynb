{
 "cells": [
  {
   "cell_type": "code",
   "execution_count": null,
   "metadata": {},
   "outputs": [],
   "source": [
    "import openpyxl\n",
    "# Use a dictionary to rename columns\n",
    "SP_Test.rename(columns={'title': 'Title', 'summary': 'Summary', 'url': 'URL'}, inplace=True)\n",
    "\n",
    "# Display the updated DataFrame\n",
    "SP_Test\n",
    "\n",
    "# writing to CSV\n",
    "#SP_Test.to_csv(\"SP_Test.csv\", index=False)\n",
    "SP_Test.to_excel(\"SP_Test.xlsx\", index=False)\n"
   ]
  },
  {
   "cell_type": "code",
   "execution_count": null,
   "metadata": {},
   "outputs": [],
   "source": [
    "data = SP_Test.to_dict(orient='records')\n",
    "# Save JSON data to a file\n",
    "with open('data_SP.json', 'w') as json_file:\n",
    "    json.dump(data, json_file, indent=4)"
   ]
  },
  {
   "cell_type": "code",
   "execution_count": null,
   "metadata": {},
   "outputs": [],
   "source": [
    "site_url = \"https://bitzerse-my.sharepoint.com/personal/matthew_claflin_bitzer_de\"\n",
    "username = \"matthew.claflin@bitzer.de\"\n",
    "password = \"RZX)8?17F(m0BXJ\"\n",
    "\n",
    "#set up client context\n",
    "context = ClientContext(site_url).with_credentials(UserCredential(username, password))"
   ]
  },
  {
   "cell_type": "code",
   "execution_count": null,
   "metadata": {},
   "outputs": [],
   "source": [
    "list_name = \"API_JSON_Test\"\n",
    "\n",
    "# get the target list from SharePoint\n",
    "list_object = context.web.lists.get_by_title(list_name)"
   ]
  },
  {
   "cell_type": "code",
   "execution_count": null,
   "metadata": {},
   "outputs": [],
   "source": [
    "for record in data:\n",
    "    item_creation = list_object.add_item(record)\n",
    "\n",
    "    #mapping my data to the sharepoint fields\n",
    "    item_creation.set_property(\"Title\", record['title'])\n",
    "    item_creation.set_property(\"Summary\", record['summary'])\n",
    "    item_creation.set_property(\"URL\", record['url'])\n",
    "\n",
    "    #sending the request to sharepoint\n",
    "    context.execute_query()\n",
    "\n",
    "print(\"Data has been successfully added to SharePoint list.\")"
   ]
  },
  {
   "cell_type": "code",
   "execution_count": null,
   "metadata": {},
   "outputs": [],
   "source": []
  },
  {
   "cell_type": "code",
   "execution_count": null,
   "metadata": {},
   "outputs": [],
   "source": []
  }
 ],
 "metadata": {
  "kernelspec": {
   "display_name": "venv",
   "language": "python",
   "name": "python3"
  },
  "language_info": {
   "name": "python",
   "version": "3.12.10"
  }
 },
 "nbformat": 4,
 "nbformat_minor": 2
}
